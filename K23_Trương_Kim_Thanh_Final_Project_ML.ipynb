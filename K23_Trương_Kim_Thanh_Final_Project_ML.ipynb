{
  "nbformat": 4,
  "nbformat_minor": 0,
  "metadata": {
    "colab": {
      "provenance": [],
      "authorship_tag": "ABX9TyOzw8f5oK/RX8W8UzMED17X",
      "include_colab_link": true
    },
    "kernelspec": {
      "name": "python3",
      "display_name": "Python 3"
    },
    "language_info": {
      "name": "python"
    }
  },
  "cells": [
    {
      "cell_type": "markdown",
      "metadata": {
        "id": "view-in-github",
        "colab_type": "text"
      },
      "source": [
        "<a href=\"https://colab.research.google.com/github/KimThanh-DA/ML---CHURN-PREDICTION/blob/main/K23_Tr%C6%B0%C6%A1ng_Kim_Thanh_Final_Project_ML.ipynb\" target=\"_parent\"><img src=\"https://colab.research.google.com/assets/colab-badge.svg\" alt=\"Open In Colab\"/></a>"
      ]
    },
    {
      "cell_type": "code",
      "execution_count": null,
      "metadata": {
        "id": "tFn36ucY8HW_"
      },
      "outputs": [],
      "source": [
        "import pandas as pd\n",
        "import seaborn as sns\n",
        "import matplotlib.pyplot as plt\n",
        "import numpy as np\n",
        "import numpy as np\n",
        "import warnings\n",
        "import time\n",
        "warnings.filterwarnings('ignore')"
      ]
    },
    {
      "cell_type": "code",
      "source": [
        "df = pd.read_excel('/content/churn_prediction - FINAL PROJECT.xlsx')\n",
        "df.head(5)"
      ],
      "metadata": {
        "colab": {
          "base_uri": "https://localhost:8080/",
          "height": 261
        },
        "id": "egpIK16D_CTG",
        "outputId": "99e81d93-0892-4778-94c6-4f04f08071fe"
      },
      "execution_count": null,
      "outputs": [
        {
          "output_type": "execute_result",
          "data": {
            "text/plain": [
              "   CustomerID  Churn  Tenure PreferredLoginDevice  CityTier  WarehouseToHome  \\\n",
              "0       50001      1     4.0         Mobile Phone         3              6.0   \n",
              "1       50002      1     NaN                Phone         1              8.0   \n",
              "2       50003      1     NaN                Phone         1             30.0   \n",
              "3       50004      1     0.0                Phone         3             15.0   \n",
              "4       50005      1     0.0                Phone         1             12.0   \n",
              "\n",
              "  PreferredPaymentMode  Gender  HourSpendOnApp  NumberOfDeviceRegistered  \\\n",
              "0           Debit Card  Female             3.0                         3   \n",
              "1                  UPI    Male             3.0                         4   \n",
              "2           Debit Card    Male             2.0                         4   \n",
              "3           Debit Card    Male             2.0                         4   \n",
              "4                   CC    Male             NaN                         3   \n",
              "\n",
              "     PreferedOrderCat  SatisfactionScore MaritalStatus  NumberOfAddress  \\\n",
              "0  Laptop & Accessory                  2        Single                9   \n",
              "1              Mobile                  3        Single                7   \n",
              "2              Mobile                  3        Single                6   \n",
              "3  Laptop & Accessory                  5        Single                8   \n",
              "4              Mobile                  5        Single                3   \n",
              "\n",
              "   Complain  OrderAmountHikeFromlastYear  CouponUsed  OrderCount  \\\n",
              "0         1                         11.0         1.0         1.0   \n",
              "1         1                         15.0         0.0         1.0   \n",
              "2         1                         14.0         0.0         1.0   \n",
              "3         0                         23.0         0.0         1.0   \n",
              "4         0                         11.0         1.0         1.0   \n",
              "\n",
              "   DaySinceLastOrder  CashbackAmount  \n",
              "0                5.0          159.93  \n",
              "1                0.0          120.90  \n",
              "2                3.0          120.28  \n",
              "3                3.0          134.07  \n",
              "4                3.0          129.60  "
            ],
            "text/html": [
              "\n",
              "  <div id=\"df-28f976a1-295b-4308-b395-55a2c39c55a4\" class=\"colab-df-container\">\n",
              "    <div>\n",
              "<style scoped>\n",
              "    .dataframe tbody tr th:only-of-type {\n",
              "        vertical-align: middle;\n",
              "    }\n",
              "\n",
              "    .dataframe tbody tr th {\n",
              "        vertical-align: top;\n",
              "    }\n",
              "\n",
              "    .dataframe thead th {\n",
              "        text-align: right;\n",
              "    }\n",
              "</style>\n",
              "<table border=\"1\" class=\"dataframe\">\n",
              "  <thead>\n",
              "    <tr style=\"text-align: right;\">\n",
              "      <th></th>\n",
              "      <th>CustomerID</th>\n",
              "      <th>Churn</th>\n",
              "      <th>Tenure</th>\n",
              "      <th>PreferredLoginDevice</th>\n",
              "      <th>CityTier</th>\n",
              "      <th>WarehouseToHome</th>\n",
              "      <th>PreferredPaymentMode</th>\n",
              "      <th>Gender</th>\n",
              "      <th>HourSpendOnApp</th>\n",
              "      <th>NumberOfDeviceRegistered</th>\n",
              "      <th>PreferedOrderCat</th>\n",
              "      <th>SatisfactionScore</th>\n",
              "      <th>MaritalStatus</th>\n",
              "      <th>NumberOfAddress</th>\n",
              "      <th>Complain</th>\n",
              "      <th>OrderAmountHikeFromlastYear</th>\n",
              "      <th>CouponUsed</th>\n",
              "      <th>OrderCount</th>\n",
              "      <th>DaySinceLastOrder</th>\n",
              "      <th>CashbackAmount</th>\n",
              "    </tr>\n",
              "  </thead>\n",
              "  <tbody>\n",
              "    <tr>\n",
              "      <th>0</th>\n",
              "      <td>50001</td>\n",
              "      <td>1</td>\n",
              "      <td>4.0</td>\n",
              "      <td>Mobile Phone</td>\n",
              "      <td>3</td>\n",
              "      <td>6.0</td>\n",
              "      <td>Debit Card</td>\n",
              "      <td>Female</td>\n",
              "      <td>3.0</td>\n",
              "      <td>3</td>\n",
              "      <td>Laptop &amp; Accessory</td>\n",
              "      <td>2</td>\n",
              "      <td>Single</td>\n",
              "      <td>9</td>\n",
              "      <td>1</td>\n",
              "      <td>11.0</td>\n",
              "      <td>1.0</td>\n",
              "      <td>1.0</td>\n",
              "      <td>5.0</td>\n",
              "      <td>159.93</td>\n",
              "    </tr>\n",
              "    <tr>\n",
              "      <th>1</th>\n",
              "      <td>50002</td>\n",
              "      <td>1</td>\n",
              "      <td>NaN</td>\n",
              "      <td>Phone</td>\n",
              "      <td>1</td>\n",
              "      <td>8.0</td>\n",
              "      <td>UPI</td>\n",
              "      <td>Male</td>\n",
              "      <td>3.0</td>\n",
              "      <td>4</td>\n",
              "      <td>Mobile</td>\n",
              "      <td>3</td>\n",
              "      <td>Single</td>\n",
              "      <td>7</td>\n",
              "      <td>1</td>\n",
              "      <td>15.0</td>\n",
              "      <td>0.0</td>\n",
              "      <td>1.0</td>\n",
              "      <td>0.0</td>\n",
              "      <td>120.90</td>\n",
              "    </tr>\n",
              "    <tr>\n",
              "      <th>2</th>\n",
              "      <td>50003</td>\n",
              "      <td>1</td>\n",
              "      <td>NaN</td>\n",
              "      <td>Phone</td>\n",
              "      <td>1</td>\n",
              "      <td>30.0</td>\n",
              "      <td>Debit Card</td>\n",
              "      <td>Male</td>\n",
              "      <td>2.0</td>\n",
              "      <td>4</td>\n",
              "      <td>Mobile</td>\n",
              "      <td>3</td>\n",
              "      <td>Single</td>\n",
              "      <td>6</td>\n",
              "      <td>1</td>\n",
              "      <td>14.0</td>\n",
              "      <td>0.0</td>\n",
              "      <td>1.0</td>\n",
              "      <td>3.0</td>\n",
              "      <td>120.28</td>\n",
              "    </tr>\n",
              "    <tr>\n",
              "      <th>3</th>\n",
              "      <td>50004</td>\n",
              "      <td>1</td>\n",
              "      <td>0.0</td>\n",
              "      <td>Phone</td>\n",
              "      <td>3</td>\n",
              "      <td>15.0</td>\n",
              "      <td>Debit Card</td>\n",
              "      <td>Male</td>\n",
              "      <td>2.0</td>\n",
              "      <td>4</td>\n",
              "      <td>Laptop &amp; Accessory</td>\n",
              "      <td>5</td>\n",
              "      <td>Single</td>\n",
              "      <td>8</td>\n",
              "      <td>0</td>\n",
              "      <td>23.0</td>\n",
              "      <td>0.0</td>\n",
              "      <td>1.0</td>\n",
              "      <td>3.0</td>\n",
              "      <td>134.07</td>\n",
              "    </tr>\n",
              "    <tr>\n",
              "      <th>4</th>\n",
              "      <td>50005</td>\n",
              "      <td>1</td>\n",
              "      <td>0.0</td>\n",
              "      <td>Phone</td>\n",
              "      <td>1</td>\n",
              "      <td>12.0</td>\n",
              "      <td>CC</td>\n",
              "      <td>Male</td>\n",
              "      <td>NaN</td>\n",
              "      <td>3</td>\n",
              "      <td>Mobile</td>\n",
              "      <td>5</td>\n",
              "      <td>Single</td>\n",
              "      <td>3</td>\n",
              "      <td>0</td>\n",
              "      <td>11.0</td>\n",
              "      <td>1.0</td>\n",
              "      <td>1.0</td>\n",
              "      <td>3.0</td>\n",
              "      <td>129.60</td>\n",
              "    </tr>\n",
              "  </tbody>\n",
              "</table>\n",
              "</div>\n",
              "    <div class=\"colab-df-buttons\">\n",
              "\n",
              "  <div class=\"colab-df-container\">\n",
              "    <button class=\"colab-df-convert\" onclick=\"convertToInteractive('df-28f976a1-295b-4308-b395-55a2c39c55a4')\"\n",
              "            title=\"Convert this dataframe to an interactive table.\"\n",
              "            style=\"display:none;\">\n",
              "\n",
              "  <svg xmlns=\"http://www.w3.org/2000/svg\" height=\"24px\" viewBox=\"0 -960 960 960\">\n",
              "    <path d=\"M120-120v-720h720v720H120Zm60-500h600v-160H180v160Zm220 220h160v-160H400v160Zm0 220h160v-160H400v160ZM180-400h160v-160H180v160Zm440 0h160v-160H620v160ZM180-180h160v-160H180v160Zm440 0h160v-160H620v160Z\"/>\n",
              "  </svg>\n",
              "    </button>\n",
              "\n",
              "  <style>\n",
              "    .colab-df-container {\n",
              "      display:flex;\n",
              "      gap: 12px;\n",
              "    }\n",
              "\n",
              "    .colab-df-convert {\n",
              "      background-color: #E8F0FE;\n",
              "      border: none;\n",
              "      border-radius: 50%;\n",
              "      cursor: pointer;\n",
              "      display: none;\n",
              "      fill: #1967D2;\n",
              "      height: 32px;\n",
              "      padding: 0 0 0 0;\n",
              "      width: 32px;\n",
              "    }\n",
              "\n",
              "    .colab-df-convert:hover {\n",
              "      background-color: #E2EBFA;\n",
              "      box-shadow: 0px 1px 2px rgba(60, 64, 67, 0.3), 0px 1px 3px 1px rgba(60, 64, 67, 0.15);\n",
              "      fill: #174EA6;\n",
              "    }\n",
              "\n",
              "    .colab-df-buttons div {\n",
              "      margin-bottom: 4px;\n",
              "    }\n",
              "\n",
              "    [theme=dark] .colab-df-convert {\n",
              "      background-color: #3B4455;\n",
              "      fill: #D2E3FC;\n",
              "    }\n",
              "\n",
              "    [theme=dark] .colab-df-convert:hover {\n",
              "      background-color: #434B5C;\n",
              "      box-shadow: 0px 1px 3px 1px rgba(0, 0, 0, 0.15);\n",
              "      filter: drop-shadow(0px 1px 2px rgba(0, 0, 0, 0.3));\n",
              "      fill: #FFFFFF;\n",
              "    }\n",
              "  </style>\n",
              "\n",
              "    <script>\n",
              "      const buttonEl =\n",
              "        document.querySelector('#df-28f976a1-295b-4308-b395-55a2c39c55a4 button.colab-df-convert');\n",
              "      buttonEl.style.display =\n",
              "        google.colab.kernel.accessAllowed ? 'block' : 'none';\n",
              "\n",
              "      async function convertToInteractive(key) {\n",
              "        const element = document.querySelector('#df-28f976a1-295b-4308-b395-55a2c39c55a4');\n",
              "        const dataTable =\n",
              "          await google.colab.kernel.invokeFunction('convertToInteractive',\n",
              "                                                    [key], {});\n",
              "        if (!dataTable) return;\n",
              "\n",
              "        const docLinkHtml = 'Like what you see? Visit the ' +\n",
              "          '<a target=\"_blank\" href=https://colab.research.google.com/notebooks/data_table.ipynb>data table notebook</a>'\n",
              "          + ' to learn more about interactive tables.';\n",
              "        element.innerHTML = '';\n",
              "        dataTable['output_type'] = 'display_data';\n",
              "        await google.colab.output.renderOutput(dataTable, element);\n",
              "        const docLink = document.createElement('div');\n",
              "        docLink.innerHTML = docLinkHtml;\n",
              "        element.appendChild(docLink);\n",
              "      }\n",
              "    </script>\n",
              "  </div>\n",
              "\n",
              "\n",
              "<div id=\"df-ebd38c46-9054-4efd-a428-1fd68ec4a262\">\n",
              "  <button class=\"colab-df-quickchart\" onclick=\"quickchart('df-ebd38c46-9054-4efd-a428-1fd68ec4a262')\"\n",
              "            title=\"Suggest charts\"\n",
              "            style=\"display:none;\">\n",
              "\n",
              "<svg xmlns=\"http://www.w3.org/2000/svg\" height=\"24px\"viewBox=\"0 0 24 24\"\n",
              "     width=\"24px\">\n",
              "    <g>\n",
              "        <path d=\"M19 3H5c-1.1 0-2 .9-2 2v14c0 1.1.9 2 2 2h14c1.1 0 2-.9 2-2V5c0-1.1-.9-2-2-2zM9 17H7v-7h2v7zm4 0h-2V7h2v10zm4 0h-2v-4h2v4z\"/>\n",
              "    </g>\n",
              "</svg>\n",
              "  </button>\n",
              "\n",
              "<style>\n",
              "  .colab-df-quickchart {\n",
              "      --bg-color: #E8F0FE;\n",
              "      --fill-color: #1967D2;\n",
              "      --hover-bg-color: #E2EBFA;\n",
              "      --hover-fill-color: #174EA6;\n",
              "      --disabled-fill-color: #AAA;\n",
              "      --disabled-bg-color: #DDD;\n",
              "  }\n",
              "\n",
              "  [theme=dark] .colab-df-quickchart {\n",
              "      --bg-color: #3B4455;\n",
              "      --fill-color: #D2E3FC;\n",
              "      --hover-bg-color: #434B5C;\n",
              "      --hover-fill-color: #FFFFFF;\n",
              "      --disabled-bg-color: #3B4455;\n",
              "      --disabled-fill-color: #666;\n",
              "  }\n",
              "\n",
              "  .colab-df-quickchart {\n",
              "    background-color: var(--bg-color);\n",
              "    border: none;\n",
              "    border-radius: 50%;\n",
              "    cursor: pointer;\n",
              "    display: none;\n",
              "    fill: var(--fill-color);\n",
              "    height: 32px;\n",
              "    padding: 0;\n",
              "    width: 32px;\n",
              "  }\n",
              "\n",
              "  .colab-df-quickchart:hover {\n",
              "    background-color: var(--hover-bg-color);\n",
              "    box-shadow: 0 1px 2px rgba(60, 64, 67, 0.3), 0 1px 3px 1px rgba(60, 64, 67, 0.15);\n",
              "    fill: var(--button-hover-fill-color);\n",
              "  }\n",
              "\n",
              "  .colab-df-quickchart-complete:disabled,\n",
              "  .colab-df-quickchart-complete:disabled:hover {\n",
              "    background-color: var(--disabled-bg-color);\n",
              "    fill: var(--disabled-fill-color);\n",
              "    box-shadow: none;\n",
              "  }\n",
              "\n",
              "  .colab-df-spinner {\n",
              "    border: 2px solid var(--fill-color);\n",
              "    border-color: transparent;\n",
              "    border-bottom-color: var(--fill-color);\n",
              "    animation:\n",
              "      spin 1s steps(1) infinite;\n",
              "  }\n",
              "\n",
              "  @keyframes spin {\n",
              "    0% {\n",
              "      border-color: transparent;\n",
              "      border-bottom-color: var(--fill-color);\n",
              "      border-left-color: var(--fill-color);\n",
              "    }\n",
              "    20% {\n",
              "      border-color: transparent;\n",
              "      border-left-color: var(--fill-color);\n",
              "      border-top-color: var(--fill-color);\n",
              "    }\n",
              "    30% {\n",
              "      border-color: transparent;\n",
              "      border-left-color: var(--fill-color);\n",
              "      border-top-color: var(--fill-color);\n",
              "      border-right-color: var(--fill-color);\n",
              "    }\n",
              "    40% {\n",
              "      border-color: transparent;\n",
              "      border-right-color: var(--fill-color);\n",
              "      border-top-color: var(--fill-color);\n",
              "    }\n",
              "    60% {\n",
              "      border-color: transparent;\n",
              "      border-right-color: var(--fill-color);\n",
              "    }\n",
              "    80% {\n",
              "      border-color: transparent;\n",
              "      border-right-color: var(--fill-color);\n",
              "      border-bottom-color: var(--fill-color);\n",
              "    }\n",
              "    90% {\n",
              "      border-color: transparent;\n",
              "      border-bottom-color: var(--fill-color);\n",
              "    }\n",
              "  }\n",
              "</style>\n",
              "\n",
              "  <script>\n",
              "    async function quickchart(key) {\n",
              "      const quickchartButtonEl =\n",
              "        document.querySelector('#' + key + ' button');\n",
              "      quickchartButtonEl.disabled = true;  // To prevent multiple clicks.\n",
              "      quickchartButtonEl.classList.add('colab-df-spinner');\n",
              "      try {\n",
              "        const charts = await google.colab.kernel.invokeFunction(\n",
              "            'suggestCharts', [key], {});\n",
              "      } catch (error) {\n",
              "        console.error('Error during call to suggestCharts:', error);\n",
              "      }\n",
              "      quickchartButtonEl.classList.remove('colab-df-spinner');\n",
              "      quickchartButtonEl.classList.add('colab-df-quickchart-complete');\n",
              "    }\n",
              "    (() => {\n",
              "      let quickchartButtonEl =\n",
              "        document.querySelector('#df-ebd38c46-9054-4efd-a428-1fd68ec4a262 button');\n",
              "      quickchartButtonEl.style.display =\n",
              "        google.colab.kernel.accessAllowed ? 'block' : 'none';\n",
              "    })();\n",
              "  </script>\n",
              "</div>\n",
              "\n",
              "    </div>\n",
              "  </div>\n"
            ],
            "application/vnd.google.colaboratory.intrinsic+json": {
              "type": "dataframe",
              "variable_name": "df",
              "summary": "{\n  \"name\": \"df\",\n  \"rows\": 5630,\n  \"fields\": [\n    {\n      \"column\": \"CustomerID\",\n      \"properties\": {\n        \"dtype\": \"number\",\n        \"std\": 1625,\n        \"min\": 50001,\n        \"max\": 55630,\n        \"num_unique_values\": 5630,\n        \"samples\": [\n          54332,\n          51989,\n          53444\n        ],\n        \"semantic_type\": \"\",\n        \"description\": \"\"\n      }\n    },\n    {\n      \"column\": \"Churn\",\n      \"properties\": {\n        \"dtype\": \"number\",\n        \"std\": 0,\n        \"min\": 0,\n        \"max\": 1,\n        \"num_unique_values\": 2,\n        \"samples\": [\n          0,\n          1\n        ],\n        \"semantic_type\": \"\",\n        \"description\": \"\"\n      }\n    },\n    {\n      \"column\": \"Tenure\",\n      \"properties\": {\n        \"dtype\": \"number\",\n        \"std\": 8.557240984165002,\n        \"min\": 0.0,\n        \"max\": 61.0,\n        \"num_unique_values\": 36,\n        \"samples\": [\n          61.0,\n          1.0\n        ],\n        \"semantic_type\": \"\",\n        \"description\": \"\"\n      }\n    },\n    {\n      \"column\": \"PreferredLoginDevice\",\n      \"properties\": {\n        \"dtype\": \"category\",\n        \"num_unique_values\": 3,\n        \"samples\": [\n          \"Mobile Phone\",\n          \"Phone\"\n        ],\n        \"semantic_type\": \"\",\n        \"description\": \"\"\n      }\n    },\n    {\n      \"column\": \"CityTier\",\n      \"properties\": {\n        \"dtype\": \"number\",\n        \"std\": 0,\n        \"min\": 1,\n        \"max\": 3,\n        \"num_unique_values\": 3,\n        \"samples\": [\n          3,\n          1\n        ],\n        \"semantic_type\": \"\",\n        \"description\": \"\"\n      }\n    },\n    {\n      \"column\": \"WarehouseToHome\",\n      \"properties\": {\n        \"dtype\": \"number\",\n        \"std\": 8.53147518676263,\n        \"min\": 5.0,\n        \"max\": 127.0,\n        \"num_unique_values\": 34,\n        \"samples\": [\n          14.0,\n          23.0\n        ],\n        \"semantic_type\": \"\",\n        \"description\": \"\"\n      }\n    },\n    {\n      \"column\": \"PreferredPaymentMode\",\n      \"properties\": {\n        \"dtype\": \"category\",\n        \"num_unique_values\": 7,\n        \"samples\": [\n          \"Debit Card\",\n          \"UPI\"\n        ],\n        \"semantic_type\": \"\",\n        \"description\": \"\"\n      }\n    },\n    {\n      \"column\": \"Gender\",\n      \"properties\": {\n        \"dtype\": \"category\",\n        \"num_unique_values\": 2,\n        \"samples\": [\n          \"Male\",\n          \"Female\"\n        ],\n        \"semantic_type\": \"\",\n        \"description\": \"\"\n      }\n    },\n    {\n      \"column\": \"HourSpendOnApp\",\n      \"properties\": {\n        \"dtype\": \"number\",\n        \"std\": 0.7219258499760615,\n        \"min\": 0.0,\n        \"max\": 5.0,\n        \"num_unique_values\": 6,\n        \"samples\": [\n          3.0,\n          2.0\n        ],\n        \"semantic_type\": \"\",\n        \"description\": \"\"\n      }\n    },\n    {\n      \"column\": \"NumberOfDeviceRegistered\",\n      \"properties\": {\n        \"dtype\": \"number\",\n        \"std\": 1,\n        \"min\": 1,\n        \"max\": 6,\n        \"num_unique_values\": 6,\n        \"samples\": [\n          3,\n          4\n        ],\n        \"semantic_type\": \"\",\n        \"description\": \"\"\n      }\n    },\n    {\n      \"column\": \"PreferedOrderCat\",\n      \"properties\": {\n        \"dtype\": \"category\",\n        \"num_unique_values\": 6,\n        \"samples\": [\n          \"Laptop & Accessory\",\n          \"Mobile\"\n        ],\n        \"semantic_type\": \"\",\n        \"description\": \"\"\n      }\n    },\n    {\n      \"column\": \"SatisfactionScore\",\n      \"properties\": {\n        \"dtype\": \"number\",\n        \"std\": 1,\n        \"min\": 1,\n        \"max\": 5,\n        \"num_unique_values\": 5,\n        \"samples\": [\n          3,\n          1\n        ],\n        \"semantic_type\": \"\",\n        \"description\": \"\"\n      }\n    },\n    {\n      \"column\": \"MaritalStatus\",\n      \"properties\": {\n        \"dtype\": \"category\",\n        \"num_unique_values\": 3,\n        \"samples\": [\n          \"Single\",\n          \"Divorced\"\n        ],\n        \"semantic_type\": \"\",\n        \"description\": \"\"\n      }\n    },\n    {\n      \"column\": \"NumberOfAddress\",\n      \"properties\": {\n        \"dtype\": \"number\",\n        \"std\": 2,\n        \"min\": 1,\n        \"max\": 22,\n        \"num_unique_values\": 15,\n        \"samples\": [\n          5,\n          21\n        ],\n        \"semantic_type\": \"\",\n        \"description\": \"\"\n      }\n    },\n    {\n      \"column\": \"Complain\",\n      \"properties\": {\n        \"dtype\": \"number\",\n        \"std\": 0,\n        \"min\": 0,\n        \"max\": 1,\n        \"num_unique_values\": 2,\n        \"samples\": [\n          0,\n          1\n        ],\n        \"semantic_type\": \"\",\n        \"description\": \"\"\n      }\n    },\n    {\n      \"column\": \"OrderAmountHikeFromlastYear\",\n      \"properties\": {\n        \"dtype\": \"number\",\n        \"std\": 3.6754854627464644,\n        \"min\": 11.0,\n        \"max\": 26.0,\n        \"num_unique_values\": 16,\n        \"samples\": [\n          11.0,\n          15.0\n        ],\n        \"semantic_type\": \"\",\n        \"description\": \"\"\n      }\n    },\n    {\n      \"column\": \"CouponUsed\",\n      \"properties\": {\n        \"dtype\": \"number\",\n        \"std\": 1.8946214472186502,\n        \"min\": 0.0,\n        \"max\": 16.0,\n        \"num_unique_values\": 17,\n        \"samples\": [\n          1.0,\n          0.0\n        ],\n        \"semantic_type\": \"\",\n        \"description\": \"\"\n      }\n    },\n    {\n      \"column\": \"OrderCount\",\n      \"properties\": {\n        \"dtype\": \"number\",\n        \"std\": 2.9396795481512608,\n        \"min\": 1.0,\n        \"max\": 16.0,\n        \"num_unique_values\": 16,\n        \"samples\": [\n          1.0,\n          6.0\n        ],\n        \"semantic_type\": \"\",\n        \"description\": \"\"\n      }\n    },\n    {\n      \"column\": \"DaySinceLastOrder\",\n      \"properties\": {\n        \"dtype\": \"number\",\n        \"std\": 3.6544331967013357,\n        \"min\": 0.0,\n        \"max\": 46.0,\n        \"num_unique_values\": 22,\n        \"samples\": [\n          5.0,\n          13.0\n        ],\n        \"semantic_type\": \"\",\n        \"description\": \"\"\n      }\n    },\n    {\n      \"column\": \"CashbackAmount\",\n      \"properties\": {\n        \"dtype\": \"number\",\n        \"std\": 49.20703617486409,\n        \"min\": 0.0,\n        \"max\": 324.99,\n        \"num_unique_values\": 2586,\n        \"samples\": [\n          125.19,\n          137.32\n        ],\n        \"semantic_type\": \"\",\n        \"description\": \"\"\n      }\n    }\n  ]\n}"
            }
          },
          "metadata": {},
          "execution_count": 5
        }
      ]
    },
    {
      "cell_type": "code",
      "source": [
        "df.info() #check info of data"
      ],
      "metadata": {
        "colab": {
          "base_uri": "https://localhost:8080/"
        },
        "id": "mGY23nu3_W9e",
        "outputId": "3418aa0d-c8c1-4f54-c54a-7556ff6b2629"
      },
      "execution_count": null,
      "outputs": [
        {
          "output_type": "stream",
          "name": "stdout",
          "text": [
            "<class 'pandas.core.frame.DataFrame'>\n",
            "RangeIndex: 5630 entries, 0 to 5629\n",
            "Data columns (total 20 columns):\n",
            " #   Column                       Non-Null Count  Dtype  \n",
            "---  ------                       --------------  -----  \n",
            " 0   CustomerID                   5630 non-null   int64  \n",
            " 1   Churn                        5630 non-null   int64  \n",
            " 2   Tenure                       5366 non-null   float64\n",
            " 3   PreferredLoginDevice         5630 non-null   object \n",
            " 4   CityTier                     5630 non-null   int64  \n",
            " 5   WarehouseToHome              5379 non-null   float64\n",
            " 6   PreferredPaymentMode         5630 non-null   object \n",
            " 7   Gender                       5630 non-null   object \n",
            " 8   HourSpendOnApp               5375 non-null   float64\n",
            " 9   NumberOfDeviceRegistered     5630 non-null   int64  \n",
            " 10  PreferedOrderCat             5630 non-null   object \n",
            " 11  SatisfactionScore            5630 non-null   int64  \n",
            " 12  MaritalStatus                5630 non-null   object \n",
            " 13  NumberOfAddress              5630 non-null   int64  \n",
            " 14  Complain                     5630 non-null   int64  \n",
            " 15  OrderAmountHikeFromlastYear  5365 non-null   float64\n",
            " 16  CouponUsed                   5374 non-null   float64\n",
            " 17  OrderCount                   5372 non-null   float64\n",
            " 18  DaySinceLastOrder            5323 non-null   float64\n",
            " 19  CashbackAmount               5630 non-null   float64\n",
            "dtypes: float64(8), int64(7), object(5)\n",
            "memory usage: 879.8+ KB\n"
          ]
        }
      ]
    },
    {
      "cell_type": "code",
      "source": [
        "# Data này ổn, không có giá trị bị thiếu."
      ],
      "metadata": {
        "id": "FIkEloqn_iD2"
      },
      "execution_count": null,
      "outputs": []
    },
    {
      "cell_type": "code",
      "source": [
        "df.duplicated().unique() #check giá trị trùng"
      ],
      "metadata": {
        "colab": {
          "base_uri": "https://localhost:8080/"
        },
        "id": "ll1IHErALJB0",
        "outputId": "f39c5eb7-4982-40d2-8da8-6b912b2e9bf6"
      },
      "execution_count": null,
      "outputs": [
        {
          "output_type": "execute_result",
          "data": {
            "text/plain": [
              "array([False])"
            ]
          },
          "metadata": {},
          "execution_count": 8
        }
      ]
    },
    {
      "cell_type": "code",
      "source": [
        "df.dtypes.unique()"
      ],
      "metadata": {
        "colab": {
          "base_uri": "https://localhost:8080/"
        },
        "id": "tEqa8E9X791J",
        "outputId": "e987057f-13da-4267-f0df-ed69ad4c3464"
      },
      "execution_count": null,
      "outputs": [
        {
          "output_type": "execute_result",
          "data": {
            "text/plain": [
              "array([dtype('int64'), dtype('float64'), dtype('O')], dtype=object)"
            ]
          },
          "metadata": {},
          "execution_count": 9
        }
      ]
    },
    {
      "cell_type": "code",
      "source": [
        "#bước này chúng ta sẽ tính % 0 và 1 của cột Churn để biết được tỉ lệ rời bỏ của data\n",
        "\n",
        "label_check = df['Churn'].value_counts(normalize=True)\n",
        "label_check"
      ],
      "metadata": {
        "colab": {
          "base_uri": "https://localhost:8080/"
        },
        "id": "F3nC7bS1L92q",
        "outputId": "6ad943a5-0c8d-43a4-8a33-d6f6c96ab2a1"
      },
      "execution_count": null,
      "outputs": [
        {
          "output_type": "execute_result",
          "data": {
            "text/plain": [
              "Churn\n",
              "0    0.831616\n",
              "1    0.168384\n",
              "Name: proportion, dtype: float64"
            ]
          },
          "metadata": {},
          "execution_count": 10
        }
      ]
    },
    {
      "cell_type": "code",
      "source": [
        "# Giá trị 0 chiếm 83.1% cho thấy lượng khách hàng hiện tại chiếm 83.1% bao gồm khách cũ và khách mới.\n",
        "# Điều này cho thấy công ty có data tương đối ổn định.\n",
        "# Giá trị 1 chiến 16.8% cho thấy lượng khách rời bỏ chiếm 16.8%.\n",
        "# Điều này cho thấy công ty cần có các chiến dịch thu hút hơn đối với nhóm khách này."
      ],
      "metadata": {
        "id": "_NgQdE6zMvWc"
      },
      "execution_count": null,
      "outputs": []
    },
    {
      "cell_type": "code",
      "source": [
        "# tính order count theo churn\n",
        "order_count_by_churn = df.groupby('Churn')['OrderCount'].sum()\n",
        "\n",
        "print(order_count_by_churn)\n"
      ],
      "metadata": {
        "id": "2dZNzwcCRulM",
        "colab": {
          "base_uri": "https://localhost:8080/"
        },
        "outputId": "aa46466f-5702-4ed4-ae0f-ebfba5997137"
      },
      "execution_count": null,
      "outputs": [
        {
          "output_type": "stream",
          "name": "stdout",
          "text": [
            "Churn\n",
            "0    13533.0\n",
            "1     2626.0\n",
            "Name: OrderCount, dtype: float64\n"
          ]
        }
      ]
    },
    {
      "cell_type": "code",
      "source": [
        "# tính % order count theo churn\n",
        "total_order_count = order_count_by_churn.sum()\n",
        "percentage_order_by_churn = (order_count_by_churn / total_order_count) * 100\n",
        "\n",
        "print(percentage_order_by_churn)"
      ],
      "metadata": {
        "colab": {
          "base_uri": "https://localhost:8080/"
        },
        "id": "9G5tG4P-5zDt",
        "outputId": "8957ea03-6e8d-4228-f0e8-ac330ad97a7e"
      },
      "execution_count": null,
      "outputs": [
        {
          "output_type": "stream",
          "name": "stdout",
          "text": [
            "Churn\n",
            "0    83.748994\n",
            "1    16.251006\n",
            "Name: OrderCount, dtype: float64\n"
          ]
        }
      ]
    },
    {
      "cell_type": "markdown",
      "source": [
        "**Ta thấy % số lượng order xấp xỉ % số lượng churn --> Cho thấy 2 biến này có tương quan với nhau.**\n"
      ],
      "metadata": {
        "id": "uSwsBJr55XWt"
      }
    },
    {
      "cell_type": "code",
      "source": [
        "# Vẽ biểu đồ cột thể hiện % order count theo churn\n",
        "percentage_order_by_churn.plot(kind='bar', color=['blue', 'orange'])\n",
        "plt.xlabel('Churn')\n",
        "plt.ylabel('Percentage')\n",
        "plt.title('Percentage Distribution of Order Count by Churn')\n",
        "plt.xticks(ticks=[0, 1], labels=['0', '1'], rotation=0)\n",
        "plt.show()"
      ],
      "metadata": {
        "colab": {
          "base_uri": "https://localhost:8080/",
          "height": 472
        },
        "id": "Xb3dc07Au9bj",
        "outputId": "3f1e1969-c7ac-415a-86f5-92ec0dc6105b"
      },
      "execution_count": null,
      "outputs": [
        {
          "output_type": "display_data",
          "data": {
            "text/plain": [
              "<Figure size 640x480 with 1 Axes>"
            ],
            "image/png": "[encoded data removed]"
          },
          "metadata": {}
        }
      ]
    },
    {
      "cell_type": "code",
      "source": [
        "# Chia Tenure theo nhóm < 30 và >= 30\n",
        "df['Tenure_Group'] = pd.cut(df['Tenure'], bins=[0, 30, float('inf')], labels=['<30', '>=30'])\n",
        "\n",
        "# Tính tổng order theo Tenure\n",
        "sum_order_count_tenure_group = df.groupby('Tenure_Group')['OrderCount'].sum().reset_index()\n",
        "\n",
        "# Vẽ biểu đồ\n",
        "plt.figure(figsize=(10, 6))\n",
        "\n",
        "sns.barplot(data=sum_order_count_tenure_group, x='Tenure_Group', y='OrderCount', palette='coolwarm')\n",
        "plt.title('Total Order Count by Tenure Group')\n",
        "plt.ylabel('Total Order Count')\n",
        "plt.xlabel('Tenure Group')\n",
        "plt.show()\n"
      ],
      "metadata": {
        "colab": {
          "base_uri": "https://localhost:8080/",
          "height": 564
        },
        "id": "csZKbT8MLe2E",
        "outputId": "bee167da-b76b-4124-bf3a-2c3396347d96"
      },
      "execution_count": null,
      "outputs": [
        {
          "output_type": "display_data",
          "data": {
            "text/plain": [
              "<Figure size 1000x600 with 1 Axes>"
            ],
            "image/png": "[encoded data removed]"
          },
          "metadata": {}
        }
      ]
    },
    {
      "cell_type": "markdown",
      "source": [
        "**Có thể thấy lượng order tập trung chủ yếu ở nhóm < 30. Nhóm người có tenure <30 có nhu cầu mua sắm cao.**"
      ],
      "metadata": {
        "id": "XqHDgf6MMwCk"
      }
    },
    {
      "cell_type": "code",
      "source": [
        "# vẽ biểu đồ chia theo số tuổi mà khách hàng sử dụng dịch vụ\n",
        "# (tính từ lúc tạo account tới lúc rời bỏ) -> vẽ biểu đồ\n",
        "\n",
        "mean_order_count = df.groupby(['Tenure', 'Churn'])['OrderCount'].mean().reset_index()\n",
        "\n",
        "# Vẽ biểu đồ\n",
        "plt.figure(figsize=(15, 10))\n",
        "\n",
        "sns.barplot(data=mean_order_count, x='Tenure', y='OrderCount', hue='Churn', palette='coolwarm')\n",
        "plt.title('Total Order Count by Tenure and Churn')\n",
        "plt.ylabel('Total Order Count')\n",
        "plt.xlabel('Tenure')\n",
        "plt.legend(title='Churn')\n",
        "plt.show()"
      ],
      "metadata": {
        "colab": {
          "base_uri": "https://localhost:8080/",
          "height": 872
        },
        "id": "HTYZrNaavRcJ",
        "outputId": "dc35862c-9778-4ca3-ce19-9632c465d6f0"
      },
      "execution_count": null,
      "outputs": [
        {
          "output_type": "display_data",
          "data": {
            "text/plain": [
              "<Figure size 1500x1000 with 1 Axes>"
            ],
            "image/png": "[encoded data removed]"
          },
          "metadata": {}
        }
      ]
    },
    {
      "cell_type": "markdown",
      "source": [
        "**Ở đây có thể thấy churn tập trung chủ yếu ở nhóm người dùng có tenure < 30, tuy nhiên nhóm này lại tập trung lượng order count cao. Điều đó cho thấy biến Tenure và biến Order không tương quan vào nhau nhưng lại có tính tương quan với Churn. Cho nên, công ty cần xem xét đưa ra các phương án phù hợp cho nhóm Tenure < 30 này.**"
      ],
      "metadata": {
        "id": "MOTK1d0PTNpe"
      }
    },
    {
      "cell_type": "code",
      "source": [
        "# tính % phân loại giao dịch dựa trên cột PreferredPaymentMode\n",
        "# import các package\n",
        "from sklearn.model_selection import train_test_split\n",
        "from sklearn.ensemble import RandomForestClassifier\n",
        "from sklearn.metrics import accuracy_score, classification_report\n",
        "\n",
        "#loại bỏ các biến NaN\n",
        "data = df.dropna()\n",
        "\n",
        "# Chia cột PreferredPaymentMode thành X: đặc trưng, y: mục tiêu\n",
        "X = data.drop(columns=['PreferredPaymentMode'])\n",
        "y = data['PreferredPaymentMode']\n",
        "\n",
        "# Chuyển thành mô hình nhị phân\n",
        "X = pd.get_dummies(X)\n",
        "\n",
        "# Chia data thành nhóm train để học module và nhóm test để kiểm tra\n",
        "x_train, x_test, y_train, y_test = train_test_split(X, y, test_size=0.2, random_state=0)\n",
        "\n",
        "# Áp dụng RandomForestClassifier\n",
        "clf_rand = RandomForestClassifier(max_depth=2, random_state=0)\n",
        "\n",
        "# thực hiện train trên nhóm đã chia\n",
        "clf_rand.fit(x_train, y_train)\n",
        "\n",
        "# Dự đoán\n",
        "y_ranf_pre_train = clf_rand.predict(x_train)\n",
        "y_ranf_pre_test = clf_rand.predict(x_test)\n",
        "\n",
        "# Tùy chọn: đánh giá mô hình\n",
        "train_accuracy = accuracy_score(y_train, y_ranf_pre_train)\n",
        "test_accuracy = accuracy_score(y_test, y_ranf_pre_test)\n",
        "\n",
        "print(\"Độ chính xác của Training:\", train_accuracy*100)\n",
        "print(\"Độ chính xác của Testing:\", test_accuracy*100)\n",
        "print(\"Báo cáo phân loại trên tập Test:\\n\", classification_report(y_test, y_ranf_pre_test))\n",
        "\n"
      ],
      "metadata": {
        "id": "ouDm0_CVtrM_",
        "colab": {
          "base_uri": "https://localhost:8080/"
        },
        "outputId": "3a060b36-6f22-41d4-a2cb-08c830c1cc47"
      },
      "execution_count": null,
      "outputs": [
        {
          "output_type": "stream",
          "name": "stdout",
          "text": [
            "Độ chính xác của Training: 40.778097982708935\n",
            "Độ chính xác của Testing: 43.02158273381295\n",
            "Báo cáo phân loại trên tập Test:\n",
            "                   precision    recall  f1-score   support\n",
            "\n",
            "              CC       0.00      0.00      0.00         5\n",
            "             COD       0.00      0.00      0.00        49\n",
            "Cash on Delivery       0.00      0.00      0.00         8\n",
            "     Credit Card       0.00      0.00      0.00       198\n",
            "      Debit Card       0.43      1.00      0.60       299\n",
            "        E wallet       0.00      0.00      0.00        85\n",
            "             UPI       0.00      0.00      0.00        51\n",
            "\n",
            "        accuracy                           0.43       695\n",
            "       macro avg       0.06      0.14      0.09       695\n",
            "    weighted avg       0.19      0.43      0.26       695\n",
            "\n"
          ]
        }
      ]
    },
    {
      "cell_type": "markdown",
      "source": [
        "Độ chính xác của 2 tập là xấp xỉ, có thể thấy mô hình được áp dụng khá ổn. Các phương thức giao dịch được sử dụng nhiều là Credit card và Debit Card."
      ],
      "metadata": {
        "id": "s0QtfC0Mt4pl"
      }
    },
    {
      "cell_type": "code",
      "source": [
        "# tính phân loại Category\n",
        "#loại bỏ các biến NaN\n",
        "data = df.dropna()\n",
        "\n",
        "# Chia cột PreferedOrderCat thành X: đặc trưng, y: mục tiêu\n",
        "X = data.drop(columns=['PreferedOrderCat'])\n",
        "y = data['PreferedOrderCat']\n",
        "\n",
        "# Chuyển thành mô hình nhị phân\n",
        "X = pd.get_dummies(X)\n",
        "\n",
        "# Chia dữ liệu thành tập Train và tập Test\n",
        "x_train, x_test, y_train, y_test = train_test_split(X, y, test_size=0.2, random_state=0)\n",
        "\n",
        "# Áp dụng RandomForestClassifier\n",
        "clf_rand = RandomForestClassifier(max_depth=2, random_state=0)\n",
        "\n",
        "# thực hiện train trên nhóm đã chia\n",
        "clf_rand.fit(x_train, y_train)\n",
        "\n",
        "# Dự đoán trên tập hhtrain và tập tets\n",
        "y_ranf_pre_train = clf_rand.predict(x_train)\n",
        "y_ranf_pre_test = clf_rand.predict(x_test)\n",
        "\n",
        "# Tùy chọn: Đánh giá mô hình\n",
        "train_accuracy = accuracy_score(y_train, y_ranf_pre_train)\n",
        "test_accuracy = accuracy_score(y_test, y_ranf_pre_test)\n",
        "\n",
        "print(\"Độ chính xác trên tập huấn luyện:\", train_accuracy*100)\n",
        "print(\"Độ chính xác trên tập kiểm tra:\", test_accuracy*100)\n",
        "print(\"Báo cáo phân loại cho tập kiểm tra:\\n\", classification_report(y_test, y_ranf_pre_test))\n"
      ],
      "metadata": {
        "colab": {
          "base_uri": "https://localhost:8080/"
        },
        "id": "h3_DZNITsKYf",
        "outputId": "b93c4e51-0090-48b0-c5c7-c7f3f3691171"
      },
      "execution_count": null,
      "outputs": [
        {
          "output_type": "stream",
          "name": "stdout",
          "text": [
            "Độ chính xác trên tập huấn luyện: 74.45965417867436\n",
            "Độ chính xác trên tập kiểm tra: 74.38848920863309\n",
            "Báo cáo phân loại cho tập kiểm tra:\n",
            "                     precision    recall  f1-score   support\n",
            "\n",
            "           Fashion       0.00      0.00      0.00        74\n",
            "           Grocery       0.00      0.00      0.00         3\n",
            "Laptop & Accessory       0.69      0.98      0.81       378\n",
            "            Mobile       0.00      0.00      0.00        14\n",
            "      Mobile Phone       0.95      0.65      0.78       222\n",
            "            Others       0.00      0.00      0.00         4\n",
            "\n",
            "          accuracy                           0.74       695\n",
            "         macro avg       0.27      0.27      0.26       695\n",
            "      weighted avg       0.68      0.74      0.69       695\n",
            "\n"
          ]
        }
      ]
    },
    {
      "cell_type": "markdown",
      "source": [
        "Độ chính xác của 2 tập là xấp xỉ, mô hình này thực hiện khá tốt. Các mặt hàng tập trung chủ yếu ở nhóm Laptop và Mobile Phone."
      ],
      "metadata": {
        "id": "8j2GDxl_t1q3"
      }
    },
    {
      "cell_type": "markdown",
      "source": [
        "Dựa vào phân loại đã tính ở trên, có thể thấp sai số giữa 2 tập là xấp xỉ. Điều đó cho thấy mô hình này được áp dụng khá tốt.\n",
        "Các phương thức thanh toán như Debit Card, Credit card được sử dụng khá phổ biến vì tiện lợi, nhanh chóng. Cần được ưu tiên, nên có ác chương trình ưu đãi cho khách hàng dùng thẻ.Và cần tìm hiểu lý do khách hàng sử dụng các phương thức giao dịch khác để giảm tình trạng churn.\n",
        "Ngoài 2 nhóm mặt hàng bán chạy, cần đẩy mạnh các nhóm mặt hàng khác để tạo sự đa dạng về hàng hóa.\n",
        "Ưu tiên nhóm khách hàng churn, cần khảo sát nhu cầu khách hàng, tạo thêm nhiều ưu đãi cho khách mới để giữ chân. Ngoài ra, các khách hàng trung thành cần có các chương trình ưu đãi nhiều hơn."
      ],
      "metadata": {
        "id": "WvPi8IqiqUMO"
      }
    },
    {
      "cell_type": "markdown",
      "source": [
        "\n",
        "\n"
      ],
      "metadata": {
        "id": "-tccPg39qkLn"
      }
    }
  ]
}